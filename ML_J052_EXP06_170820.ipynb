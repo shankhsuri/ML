{
  "nbformat": 4,
  "nbformat_minor": 0,
  "metadata": {
    "colab": {
      "name": "ML_J052_EXP06_170820",
      "provenance": [],
      "include_colab_link": true
    },
    "kernelspec": {
      "name": "python3",
      "display_name": "Python 3"
    }
  },
  "cells": [
    {
      "cell_type": "markdown",
      "metadata": {
        "id": "view-in-github",
        "colab_type": "text"
      },
      "source": [
        "<a href=\"https://colab.research.google.com/github/shankhsuri/ML/blob/master/ML_J052_EXP06_170820.ipynb\" target=\"_parent\"><img src=\"https://colab.research.google.com/assets/colab-badge.svg\" alt=\"Open In Colab\"/></a>"
      ]
    },
    {
      "cell_type": "markdown",
      "metadata": {
        "id": "Smvtwvtg2UPt",
        "colab_type": "text"
      },
      "source": [
        "# Neural Network Lab 6"
      ]
    },
    {
      "cell_type": "code",
      "metadata": {
        "id": "5lVixyKYQKnq",
        "colab_type": "code",
        "colab": {
          "base_uri": "https://localhost:8080/",
          "height": 70
        },
        "outputId": "a2c66a41-0278-4f1a-aa0d-d4f5c06e17c2"
      },
      "source": [
        "import numpy as np\n",
        "import pandas as pd\n",
        "\n",
        "import matplotlib.pyplot as plt\n",
        "import seaborn as sns\n",
        "\n",
        "from sklearn.model_selection import train_test_split, cross_val_score\n",
        "from sklearn.preprocessing import StandardScaler\n",
        "\n",
        "from sklearn import linear_model\n",
        "from sklearn.model_selection import GridSearchCV, RandomizedSearchCV\n",
        "\n",
        "import warnings\n",
        "warnings.filterwarnings('ignore')\n",
        "\n",
        "np.random.seed(1)"
      ],
      "execution_count": 1,
      "outputs": [
        {
          "output_type": "stream",
          "text": [
            "/usr/local/lib/python3.6/dist-packages/statsmodels/tools/_testing.py:19: FutureWarning: pandas.util.testing is deprecated. Use the functions in the public API at pandas.testing instead.\n",
            "  import pandas.util.testing as tm\n"
          ],
          "name": "stderr"
        }
      ]
    },
    {
      "cell_type": "code",
      "metadata": {
        "id": "RSWOAu3gQxuZ",
        "colab_type": "code",
        "colab": {}
      },
      "source": [
        "%matplotlib inline\n",
        "\n",
        "plt.rcParams['figure.figsize'] = [20.0, 7.0]\n",
        "plt.rcParams.update({'font.size': 22,})\n",
        "\n",
        "sns.set_palette('viridis')\n",
        "sns.set_style('white')\n",
        "sns.set_context('talk', font_scale=0.8)"
      ],
      "execution_count": 2,
      "outputs": []
    },
    {
      "cell_type": "code",
      "metadata": {
        "id": "r0-EPCbKQ7wU",
        "colab_type": "code",
        "colab": {
          "base_uri": "https://localhost:8080/",
          "height": 619
        },
        "outputId": "e180869f-9638-4771-92f4-e34087bc105e"
      },
      "source": [
        "!wget -O 2011gcn.csv https://raw.githubusercontent.com/pranavn91/blockchain/master/2011gcn.csv\n",
        "!wget -O tx2011partvertices_new.csv https://raw.githubusercontent.com/pranavn91/blockchain/master/tx2011partvertices_new.csv\n",
        "!wget -O tx2011partvertices.csv https://raw.githubusercontent.com/pranavn91/blockchain/master/tx2011partvertices.csv\n",
        "\n",
        "train1 = pd.read_csv('2011gcn.csv')\n",
        "train2 = pd.read_csv('tx2011partvertices_new.csv')\n",
        "train3 = pd.read_csv('tx2011partvertices.csv')\n",
        "\n",
        "print('Train 1 Shape: ', train1.shape)\n",
        "print('Train 2 Shape: ', train2.shape)\n",
        "print('Train 3 Shape: ', train3.shape)"
      ],
      "execution_count": 3,
      "outputs": [
        {
          "output_type": "stream",
          "text": [
            "--2020-08-30 18:01:30--  https://raw.githubusercontent.com/pranavn91/blockchain/master/2011gcn.csv\n",
            "Resolving raw.githubusercontent.com (raw.githubusercontent.com)... 151.101.0.133, 151.101.64.133, 151.101.128.133, ...\n",
            "Connecting to raw.githubusercontent.com (raw.githubusercontent.com)|151.101.0.133|:443... connected.\n",
            "HTTP request sent, awaiting response... 200 OK\n",
            "Length: 12563086 (12M) [text/plain]\n",
            "Saving to: ‘2011gcn.csv’\n",
            "\n",
            "2011gcn.csv         100%[===================>]  11.98M  27.1MB/s    in 0.4s    \n",
            "\n",
            "2020-08-30 18:01:31 (27.1 MB/s) - ‘2011gcn.csv’ saved [12563086/12563086]\n",
            "\n",
            "--2020-08-30 18:01:31--  https://raw.githubusercontent.com/pranavn91/blockchain/master/tx2011partvertices_new.csv\n",
            "Resolving raw.githubusercontent.com (raw.githubusercontent.com)... 151.101.0.133, 151.101.64.133, 151.101.128.133, ...\n",
            "Connecting to raw.githubusercontent.com (raw.githubusercontent.com)|151.101.0.133|:443... connected.\n",
            "HTTP request sent, awaiting response... 200 OK\n",
            "Length: 12501458 (12M) [text/plain]\n",
            "Saving to: ‘tx2011partvertices_new.csv’\n",
            "\n",
            "tx2011partvertices_ 100%[===================>]  11.92M  28.1MB/s    in 0.4s    \n",
            "\n",
            "2020-08-30 18:01:32 (28.1 MB/s) - ‘tx2011partvertices_new.csv’ saved [12501458/12501458]\n",
            "\n",
            "--2020-08-30 18:01:32--  https://raw.githubusercontent.com/pranavn91/blockchain/master/tx2011partvertices.csv\n",
            "Resolving raw.githubusercontent.com (raw.githubusercontent.com)... 151.101.0.133, 151.101.64.133, 151.101.128.133, ...\n",
            "Connecting to raw.githubusercontent.com (raw.githubusercontent.com)|151.101.0.133|:443... connected.\n",
            "HTTP request sent, awaiting response... 200 OK\n",
            "Length: 1934257 (1.8M) [text/plain]\n",
            "Saving to: ‘tx2011partvertices.csv’\n",
            "\n",
            "tx2011partvertices. 100%[===================>]   1.84M  --.-KB/s    in 0.1s    \n",
            "\n",
            "2020-08-30 18:01:32 (13.5 MB/s) - ‘tx2011partvertices.csv’ saved [1934257/1934257]\n",
            "\n",
            "Train 1 Shape:  (96498, 17)\n",
            "Train 2 Shape:  (96498, 20)\n",
            "Train 3 Shape:  (96498, 2)\n"
          ],
          "name": "stdout"
        }
      ]
    },
    {
      "cell_type": "code",
      "metadata": {
        "id": "btDiXP_xR01z",
        "colab_type": "code",
        "colab": {
          "base_uri": "https://localhost:8080/",
          "height": 196
        },
        "outputId": "785e565c-cbcd-4c5f-cd8d-06603d22a8e6"
      },
      "source": [
        "train1.rename(columns={'Unnamed: 0':'index'}, inplace=True)\n",
        "train1['index'] = train1['index'] + 1\n",
        "train1.head()"
      ],
      "execution_count": 4,
      "outputs": [
        {
          "output_type": "execute_result",
          "data": {
            "text/html": [
              "<div>\n",
              "<style scoped>\n",
              "    .dataframe tbody tr th:only-of-type {\n",
              "        vertical-align: middle;\n",
              "    }\n",
              "\n",
              "    .dataframe tbody tr th {\n",
              "        vertical-align: top;\n",
              "    }\n",
              "\n",
              "    .dataframe thead th {\n",
              "        text-align: right;\n",
              "    }\n",
              "</style>\n",
              "<table border=\"1\" class=\"dataframe\">\n",
              "  <thead>\n",
              "    <tr style=\"text-align: right;\">\n",
              "      <th></th>\n",
              "      <th>index</th>\n",
              "      <th>0</th>\n",
              "      <th>1</th>\n",
              "      <th>2</th>\n",
              "      <th>3</th>\n",
              "      <th>4</th>\n",
              "      <th>5</th>\n",
              "      <th>6</th>\n",
              "      <th>7</th>\n",
              "      <th>8</th>\n",
              "      <th>9</th>\n",
              "      <th>10</th>\n",
              "      <th>11</th>\n",
              "      <th>12</th>\n",
              "      <th>13</th>\n",
              "      <th>14</th>\n",
              "      <th>15</th>\n",
              "    </tr>\n",
              "  </thead>\n",
              "  <tbody>\n",
              "    <tr>\n",
              "      <th>0</th>\n",
              "      <td>1</td>\n",
              "      <td>0.0</td>\n",
              "      <td>4.811244e+07</td>\n",
              "      <td>0.0</td>\n",
              "      <td>0.0</td>\n",
              "      <td>5.298934e+07</td>\n",
              "      <td>0.0</td>\n",
              "      <td>5.215435e+07</td>\n",
              "      <td>0.0</td>\n",
              "      <td>0.0</td>\n",
              "      <td>4.293262e+05</td>\n",
              "      <td>3.994267e+07</td>\n",
              "      <td>6.251989e+07</td>\n",
              "      <td>0.0</td>\n",
              "      <td>0.0</td>\n",
              "      <td>2.670458e+07</td>\n",
              "      <td>8.313858e+07</td>\n",
              "    </tr>\n",
              "    <tr>\n",
              "      <th>1</th>\n",
              "      <td>2</td>\n",
              "      <td>0.0</td>\n",
              "      <td>3.477977e+05</td>\n",
              "      <td>0.0</td>\n",
              "      <td>0.0</td>\n",
              "      <td>3.777575e+05</td>\n",
              "      <td>0.0</td>\n",
              "      <td>3.757520e+05</td>\n",
              "      <td>0.0</td>\n",
              "      <td>0.0</td>\n",
              "      <td>6.889133e+03</td>\n",
              "      <td>3.001618e+05</td>\n",
              "      <td>4.527358e+05</td>\n",
              "      <td>0.0</td>\n",
              "      <td>0.0</td>\n",
              "      <td>1.915057e+05</td>\n",
              "      <td>6.009039e+05</td>\n",
              "    </tr>\n",
              "    <tr>\n",
              "      <th>2</th>\n",
              "      <td>3</td>\n",
              "      <td>0.0</td>\n",
              "      <td>6.455196e+07</td>\n",
              "      <td>0.0</td>\n",
              "      <td>0.0</td>\n",
              "      <td>7.110790e+07</td>\n",
              "      <td>0.0</td>\n",
              "      <td>6.997804e+07</td>\n",
              "      <td>0.0</td>\n",
              "      <td>0.0</td>\n",
              "      <td>5.670157e+05</td>\n",
              "      <td>5.356332e+07</td>\n",
              "      <td>8.388026e+07</td>\n",
              "      <td>0.0</td>\n",
              "      <td>0.0</td>\n",
              "      <td>3.583296e+07</td>\n",
              "      <td>1.115463e+08</td>\n",
              "    </tr>\n",
              "    <tr>\n",
              "      <th>3</th>\n",
              "      <td>4</td>\n",
              "      <td>0.0</td>\n",
              "      <td>2.009876e+08</td>\n",
              "      <td>0.0</td>\n",
              "      <td>0.0</td>\n",
              "      <td>2.214679e+08</td>\n",
              "      <td>0.0</td>\n",
              "      <td>2.174101e+08</td>\n",
              "      <td>0.0</td>\n",
              "      <td>0.0</td>\n",
              "      <td>1.342720e+06</td>\n",
              "      <td>1.665389e+08</td>\n",
              "      <td>2.614420e+08</td>\n",
              "      <td>0.0</td>\n",
              "      <td>0.0</td>\n",
              "      <td>1.116514e+08</td>\n",
              "      <td>3.472892e+08</td>\n",
              "    </tr>\n",
              "    <tr>\n",
              "      <th>4</th>\n",
              "      <td>5</td>\n",
              "      <td>0.0</td>\n",
              "      <td>2.384675e+05</td>\n",
              "      <td>0.0</td>\n",
              "      <td>0.0</td>\n",
              "      <td>2.597246e+05</td>\n",
              "      <td>0.0</td>\n",
              "      <td>2.577884e+05</td>\n",
              "      <td>0.0</td>\n",
              "      <td>0.0</td>\n",
              "      <td>4.202993e+03</td>\n",
              "      <td>2.042845e+05</td>\n",
              "      <td>3.103489e+05</td>\n",
              "      <td>0.0</td>\n",
              "      <td>0.0</td>\n",
              "      <td>1.315073e+05</td>\n",
              "      <td>4.120424e+05</td>\n",
              "    </tr>\n",
              "  </tbody>\n",
              "</table>\n",
              "</div>"
            ],
            "text/plain": [
              "   index    0             1    2  ...   12   13            14            15\n",
              "0      1  0.0  4.811244e+07  0.0  ...  0.0  0.0  2.670458e+07  8.313858e+07\n",
              "1      2  0.0  3.477977e+05  0.0  ...  0.0  0.0  1.915057e+05  6.009039e+05\n",
              "2      3  0.0  6.455196e+07  0.0  ...  0.0  0.0  3.583296e+07  1.115463e+08\n",
              "3      4  0.0  2.009876e+08  0.0  ...  0.0  0.0  1.116514e+08  3.472892e+08\n",
              "4      5  0.0  2.384675e+05  0.0  ...  0.0  0.0  1.315073e+05  4.120424e+05\n",
              "\n",
              "[5 rows x 17 columns]"
            ]
          },
          "metadata": {
            "tags": []
          },
          "execution_count": 4
        }
      ]
    },
    {
      "cell_type": "code",
      "metadata": {
        "id": "zZzLe20ySBtl",
        "colab_type": "code",
        "colab": {
          "base_uri": "https://localhost:8080/",
          "height": 216
        },
        "outputId": "b10c497f-45c8-4165-9cea-d873ff4e8d67"
      },
      "source": [
        "train2.rename(columns={'Unnamed: 0':'index'}, inplace=True)\n",
        "train2.head()"
      ],
      "execution_count": 5,
      "outputs": [
        {
          "output_type": "execute_result",
          "data": {
            "text/html": [
              "<div>\n",
              "<style scoped>\n",
              "    .dataframe tbody tr th:only-of-type {\n",
              "        vertical-align: middle;\n",
              "    }\n",
              "\n",
              "    .dataframe tbody tr th {\n",
              "        vertical-align: top;\n",
              "    }\n",
              "\n",
              "    .dataframe thead th {\n",
              "        text-align: right;\n",
              "    }\n",
              "</style>\n",
              "<table border=\"1\" class=\"dataframe\">\n",
              "  <thead>\n",
              "    <tr style=\"text-align: right;\">\n",
              "      <th></th>\n",
              "      <th>index</th>\n",
              "      <th>txsize</th>\n",
              "      <th>txvirtualsize</th>\n",
              "      <th>txinputs_count</th>\n",
              "      <th>txoutputs_count</th>\n",
              "      <th>txinput_val</th>\n",
              "      <th>txoutput_val</th>\n",
              "      <th>txfee</th>\n",
              "      <th>Min_received</th>\n",
              "      <th>Max_received</th>\n",
              "      <th>Avg_received</th>\n",
              "      <th>Total_received</th>\n",
              "      <th>Stdev_received</th>\n",
              "      <th>Var_received</th>\n",
              "      <th>Min_sent</th>\n",
              "      <th>Max_sent</th>\n",
              "      <th>Avg_sent</th>\n",
              "      <th>Total_sent</th>\n",
              "      <th>Stdev_sent</th>\n",
              "      <th>Var_sent</th>\n",
              "    </tr>\n",
              "  </thead>\n",
              "  <tbody>\n",
              "    <tr>\n",
              "      <th>0</th>\n",
              "      <td>1</td>\n",
              "      <td>7369</td>\n",
              "      <td>7369</td>\n",
              "      <td>5</td>\n",
              "      <td>190</td>\n",
              "      <td>215000000.0</td>\n",
              "      <td>214600000.0</td>\n",
              "      <td>400000</td>\n",
              "      <td>0.0005</td>\n",
              "      <td>1.0000</td>\n",
              "      <td>0.011295</td>\n",
              "      <td>2.1460</td>\n",
              "      <td>0.081163</td>\n",
              "      <td>0.006587</td>\n",
              "      <td>0.0005</td>\n",
              "      <td>1.6700</td>\n",
              "      <td>0.4300</td>\n",
              "      <td>2.1500</td>\n",
              "      <td>0.703445</td>\n",
              "      <td>0.494835</td>\n",
              "    </tr>\n",
              "    <tr>\n",
              "      <th>1</th>\n",
              "      <td>2</td>\n",
              "      <td>293</td>\n",
              "      <td>293</td>\n",
              "      <td>1</td>\n",
              "      <td>3</td>\n",
              "      <td>4400000.0</td>\n",
              "      <td>4350000.0</td>\n",
              "      <td>50000</td>\n",
              "      <td>0.0010</td>\n",
              "      <td>0.0415</td>\n",
              "      <td>0.014500</td>\n",
              "      <td>0.0435</td>\n",
              "      <td>0.023383</td>\n",
              "      <td>0.000547</td>\n",
              "      <td>0.0440</td>\n",
              "      <td>0.0440</td>\n",
              "      <td>0.0440</td>\n",
              "      <td>0.0440</td>\n",
              "      <td>0.000000</td>\n",
              "      <td>0.000000</td>\n",
              "    </tr>\n",
              "    <tr>\n",
              "      <th>2</th>\n",
              "      <td>3</td>\n",
              "      <td>11139</td>\n",
              "      <td>11139</td>\n",
              "      <td>1</td>\n",
              "      <td>322</td>\n",
              "      <td>125000000.0</td>\n",
              "      <td>124400000.0</td>\n",
              "      <td>600000</td>\n",
              "      <td>0.0010</td>\n",
              "      <td>0.4460</td>\n",
              "      <td>0.003863</td>\n",
              "      <td>1.2440</td>\n",
              "      <td>0.024941</td>\n",
              "      <td>0.000622</td>\n",
              "      <td>1.2500</td>\n",
              "      <td>1.2500</td>\n",
              "      <td>1.2500</td>\n",
              "      <td>1.2500</td>\n",
              "      <td>0.000000</td>\n",
              "      <td>0.000000</td>\n",
              "    </tr>\n",
              "    <tr>\n",
              "      <th>3</th>\n",
              "      <td>4</td>\n",
              "      <td>495</td>\n",
              "      <td>495</td>\n",
              "      <td>1</td>\n",
              "      <td>9</td>\n",
              "      <td>27450000.0</td>\n",
              "      <td>27400000.0</td>\n",
              "      <td>50000</td>\n",
              "      <td>0.0010</td>\n",
              "      <td>0.2660</td>\n",
              "      <td>0.030444</td>\n",
              "      <td>0.2740</td>\n",
              "      <td>0.088333</td>\n",
              "      <td>0.007803</td>\n",
              "      <td>0.2745</td>\n",
              "      <td>0.2745</td>\n",
              "      <td>0.2745</td>\n",
              "      <td>0.2745</td>\n",
              "      <td>0.000000</td>\n",
              "      <td>0.000000</td>\n",
              "    </tr>\n",
              "    <tr>\n",
              "      <th>4</th>\n",
              "      <td>5</td>\n",
              "      <td>462</td>\n",
              "      <td>462</td>\n",
              "      <td>1</td>\n",
              "      <td>8</td>\n",
              "      <td>3000000.0</td>\n",
              "      <td>2950000.0</td>\n",
              "      <td>50000</td>\n",
              "      <td>0.0010</td>\n",
              "      <td>0.0225</td>\n",
              "      <td>0.003687</td>\n",
              "      <td>0.0295</td>\n",
              "      <td>0.007601</td>\n",
              "      <td>0.000058</td>\n",
              "      <td>0.0300</td>\n",
              "      <td>0.0300</td>\n",
              "      <td>0.0300</td>\n",
              "      <td>0.0300</td>\n",
              "      <td>0.000000</td>\n",
              "      <td>0.000000</td>\n",
              "    </tr>\n",
              "  </tbody>\n",
              "</table>\n",
              "</div>"
            ],
            "text/plain": [
              "   index  txsize  txvirtualsize  ...  Total_sent  Stdev_sent  Var_sent\n",
              "0      1    7369           7369  ...      2.1500    0.703445  0.494835\n",
              "1      2     293            293  ...      0.0440    0.000000  0.000000\n",
              "2      3   11139          11139  ...      1.2500    0.000000  0.000000\n",
              "3      4     495            495  ...      0.2745    0.000000  0.000000\n",
              "4      5     462            462  ...      0.0300    0.000000  0.000000\n",
              "\n",
              "[5 rows x 20 columns]"
            ]
          },
          "metadata": {
            "tags": []
          },
          "execution_count": 5
        }
      ]
    },
    {
      "cell_type": "code",
      "metadata": {
        "id": "rN75q8CwSTxi",
        "colab_type": "code",
        "colab": {
          "base_uri": "https://localhost:8080/",
          "height": 196
        },
        "outputId": "fc93483d-261d-4d41-d132-b08fc2888ccd"
      },
      "source": [
        "train3.rename(columns={'Unnamed: 0':'index'}, inplace=True)\n",
        "train3.head()"
      ],
      "execution_count": 6,
      "outputs": [
        {
          "output_type": "execute_result",
          "data": {
            "text/html": [
              "<div>\n",
              "<style scoped>\n",
              "    .dataframe tbody tr th:only-of-type {\n",
              "        vertical-align: middle;\n",
              "    }\n",
              "\n",
              "    .dataframe tbody tr th {\n",
              "        vertical-align: top;\n",
              "    }\n",
              "\n",
              "    .dataframe thead th {\n",
              "        text-align: right;\n",
              "    }\n",
              "</style>\n",
              "<table border=\"1\" class=\"dataframe\">\n",
              "  <thead>\n",
              "    <tr style=\"text-align: right;\">\n",
              "      <th></th>\n",
              "      <th>index</th>\n",
              "      <th>label</th>\n",
              "    </tr>\n",
              "  </thead>\n",
              "  <tbody>\n",
              "    <tr>\n",
              "      <th>0</th>\n",
              "      <td>1</td>\n",
              "      <td>unclassified</td>\n",
              "    </tr>\n",
              "    <tr>\n",
              "      <th>1</th>\n",
              "      <td>2</td>\n",
              "      <td>donations</td>\n",
              "    </tr>\n",
              "    <tr>\n",
              "      <th>2</th>\n",
              "      <td>3</td>\n",
              "      <td>unclassified</td>\n",
              "    </tr>\n",
              "    <tr>\n",
              "      <th>3</th>\n",
              "      <td>4</td>\n",
              "      <td>donations</td>\n",
              "    </tr>\n",
              "    <tr>\n",
              "      <th>4</th>\n",
              "      <td>5</td>\n",
              "      <td>donations</td>\n",
              "    </tr>\n",
              "  </tbody>\n",
              "</table>\n",
              "</div>"
            ],
            "text/plain": [
              "   index         label\n",
              "0      1  unclassified\n",
              "1      2     donations\n",
              "2      3  unclassified\n",
              "3      4     donations\n",
              "4      5     donations"
            ]
          },
          "metadata": {
            "tags": []
          },
          "execution_count": 6
        }
      ]
    },
    {
      "cell_type": "code",
      "metadata": {
        "id": "nkx_TSyHSVI6",
        "colab_type": "code",
        "colab": {}
      },
      "source": [
        "results = pd.merge(train3, train1, on='index', how='inner')\n",
        "\n",
        "# split data into X and y\n",
        "X = results.iloc[:,2:18]\n",
        "Y1 = results['label']"
      ],
      "execution_count": 7,
      "outputs": []
    },
    {
      "cell_type": "code",
      "metadata": {
        "id": "cG9wLrNloyae",
        "colab_type": "code",
        "colab": {}
      },
      "source": [
        "from sklearn import preprocessing\n",
        "Y = pd.get_dummies(Y1)"
      ],
      "execution_count": 8,
      "outputs": []
    },
    {
      "cell_type": "code",
      "metadata": {
        "id": "AOZNGwV9q2T4",
        "colab_type": "code",
        "colab": {}
      },
      "source": [
        "seed = 1\n",
        "test_size = 0.4\n",
        "x_train, x_test, y_train, y_test = train_test_split(X, Y, test_size=test_size, random_state=seed)\n",
        "x_val, x_test, y_val, y_test = train_test_split(x_test, y_test, test_size= 0.5, random_state=seed)"
      ],
      "execution_count": 9,
      "outputs": []
    },
    {
      "cell_type": "code",
      "metadata": {
        "id": "eukYlsaYveWp",
        "colab_type": "code",
        "colab": {
          "base_uri": "https://localhost:8080/",
          "height": 117
        },
        "outputId": "ba469a1f-68dd-425a-a21d-762e7b20811b"
      },
      "source": [
        "print(x_train.shape)\n",
        "print(x_val.shape)\n",
        "print(x_test.shape)\n",
        "print(y_train.shape)\n",
        "print(y_val.shape)\n",
        "print(y_test.shape)"
      ],
      "execution_count": 10,
      "outputs": [
        {
          "output_type": "stream",
          "text": [
            "(57898, 16)\n",
            "(19300, 16)\n",
            "(19300, 16)\n",
            "(57898, 6)\n",
            "(19300, 6)\n",
            "(19300, 6)\n"
          ],
          "name": "stdout"
        }
      ]
    },
    {
      "cell_type": "code",
      "metadata": {
        "id": "DxEkVRERwYDb",
        "colab_type": "code",
        "colab": {}
      },
      "source": [
        "from keras import models\n",
        "from keras import layers"
      ],
      "execution_count": 11,
      "outputs": []
    },
    {
      "cell_type": "code",
      "metadata": {
        "id": "2gWwiUFNwi--",
        "colab_type": "code",
        "colab": {}
      },
      "source": [
        "nn = models.Sequential()"
      ],
      "execution_count": 12,
      "outputs": []
    },
    {
      "cell_type": "code",
      "metadata": {
        "id": "T933PLEXwkLD",
        "colab_type": "code",
        "colab": {}
      },
      "source": [
        "nn.add(layers.Dense(512, activation = \"tanh\", input_shape = (16,)))\n",
        "nn.add(layers.Dense(256, activation = \"relu\"))\n",
        "nn.add(layers.Dense(6, activation = \"softmax\"))"
      ],
      "execution_count": 13,
      "outputs": []
    },
    {
      "cell_type": "code",
      "metadata": {
        "id": "wMePs7J9zAmg",
        "colab_type": "code",
        "colab": {
          "base_uri": "https://localhost:8080/",
          "height": 251
        },
        "outputId": "ed7f7d88-1c57-4ae1-bd39-9385aa8df004"
      },
      "source": [
        "nn.summary()"
      ],
      "execution_count": 14,
      "outputs": [
        {
          "output_type": "stream",
          "text": [
            "Model: \"sequential\"\n",
            "_________________________________________________________________\n",
            "Layer (type)                 Output Shape              Param #   \n",
            "=================================================================\n",
            "dense (Dense)                (None, 512)               8704      \n",
            "_________________________________________________________________\n",
            "dense_1 (Dense)              (None, 256)               131328    \n",
            "_________________________________________________________________\n",
            "dense_2 (Dense)              (None, 6)                 1542      \n",
            "=================================================================\n",
            "Total params: 141,574\n",
            "Trainable params: 141,574\n",
            "Non-trainable params: 0\n",
            "_________________________________________________________________\n"
          ],
          "name": "stdout"
        }
      ]
    },
    {
      "cell_type": "code",
      "metadata": {
        "id": "5LyUx6pEzK5L",
        "colab_type": "code",
        "colab": {}
      },
      "source": [
        "nn.compile(optimizer = \"sgd\", loss = 'categorical_crossentropy', metrics = ['accuracy'])"
      ],
      "execution_count": 15,
      "outputs": []
    },
    {
      "cell_type": "code",
      "metadata": {
        "id": "ixAK3cGIzPW0",
        "colab_type": "code",
        "colab": {
          "base_uri": "https://localhost:8080/",
          "height": 1000
        },
        "outputId": "07becfd1-881d-4c3e-b5ad-823a5187510a"
      },
      "source": [
        "fit=nn.fit(x_train, y_train,batch_size=128,epochs =50,validation_data=(x_val, y_val))"
      ],
      "execution_count": 16,
      "outputs": [
        {
          "output_type": "stream",
          "text": [
            "Epoch 1/50\n",
            "453/453 [==============================] - 2s 5ms/step - loss: 0.5668 - accuracy: 0.8625 - val_loss: 0.5636 - val_accuracy: 0.8639\n",
            "Epoch 2/50\n",
            "453/453 [==============================] - 2s 5ms/step - loss: 0.5558 - accuracy: 0.8653 - val_loss: 0.5563 - val_accuracy: 0.8644\n",
            "Epoch 3/50\n",
            "453/453 [==============================] - 2s 5ms/step - loss: 0.5542 - accuracy: 0.8656 - val_loss: 0.5579 - val_accuracy: 0.8638\n",
            "Epoch 4/50\n",
            "453/453 [==============================] - 2s 5ms/step - loss: 0.5545 - accuracy: 0.8657 - val_loss: 0.5568 - val_accuracy: 0.8650\n",
            "Epoch 5/50\n",
            "453/453 [==============================] - 2s 5ms/step - loss: 0.5535 - accuracy: 0.8657 - val_loss: 0.5597 - val_accuracy: 0.8648\n",
            "Epoch 6/50\n",
            "453/453 [==============================] - 2s 5ms/step - loss: 0.5523 - accuracy: 0.8658 - val_loss: 0.5530 - val_accuracy: 0.8649\n",
            "Epoch 7/50\n",
            "453/453 [==============================] - 2s 5ms/step - loss: 0.5521 - accuracy: 0.8657 - val_loss: 0.5567 - val_accuracy: 0.8654\n",
            "Epoch 8/50\n",
            "453/453 [==============================] - 2s 5ms/step - loss: 0.5511 - accuracy: 0.8657 - val_loss: 0.5552 - val_accuracy: 0.8648\n",
            "Epoch 9/50\n",
            "453/453 [==============================] - 2s 5ms/step - loss: 0.5511 - accuracy: 0.8658 - val_loss: 0.5570 - val_accuracy: 0.8644\n",
            "Epoch 10/50\n",
            "453/453 [==============================] - 2s 5ms/step - loss: 0.5504 - accuracy: 0.8659 - val_loss: 0.5649 - val_accuracy: 0.8650\n",
            "Epoch 11/50\n",
            "453/453 [==============================] - 2s 5ms/step - loss: 0.5504 - accuracy: 0.8660 - val_loss: 0.5506 - val_accuracy: 0.8655\n",
            "Epoch 12/50\n",
            "453/453 [==============================] - 2s 5ms/step - loss: 0.5503 - accuracy: 0.8659 - val_loss: 0.5566 - val_accuracy: 0.8642\n",
            "Epoch 13/50\n",
            "453/453 [==============================] - 2s 5ms/step - loss: 0.5504 - accuracy: 0.8659 - val_loss: 0.5768 - val_accuracy: 0.8655\n",
            "Epoch 14/50\n",
            "453/453 [==============================] - 2s 5ms/step - loss: 0.5504 - accuracy: 0.8659 - val_loss: 0.5523 - val_accuracy: 0.8654\n",
            "Epoch 15/50\n",
            "453/453 [==============================] - 2s 5ms/step - loss: 0.5502 - accuracy: 0.8660 - val_loss: 0.5588 - val_accuracy: 0.8655\n",
            "Epoch 16/50\n",
            "453/453 [==============================] - 2s 5ms/step - loss: 0.5492 - accuracy: 0.8660 - val_loss: 0.5571 - val_accuracy: 0.8654\n",
            "Epoch 17/50\n",
            "453/453 [==============================] - 2s 5ms/step - loss: 0.5494 - accuracy: 0.8661 - val_loss: 0.5611 - val_accuracy: 0.8647\n",
            "Epoch 18/50\n",
            "453/453 [==============================] - 2s 5ms/step - loss: 0.5487 - accuracy: 0.8662 - val_loss: 0.5563 - val_accuracy: 0.8655\n",
            "Epoch 19/50\n",
            "453/453 [==============================] - 2s 5ms/step - loss: 0.5487 - accuracy: 0.8662 - val_loss: 0.5555 - val_accuracy: 0.8655\n",
            "Epoch 20/50\n",
            "453/453 [==============================] - 2s 5ms/step - loss: 0.5487 - accuracy: 0.8661 - val_loss: 0.5574 - val_accuracy: 0.8653\n",
            "Epoch 21/50\n",
            "453/453 [==============================] - 2s 5ms/step - loss: 0.5486 - accuracy: 0.8662 - val_loss: 0.5650 - val_accuracy: 0.8655\n",
            "Epoch 22/50\n",
            "453/453 [==============================] - 2s 5ms/step - loss: 0.5485 - accuracy: 0.8661 - val_loss: 0.5503 - val_accuracy: 0.8659\n",
            "Epoch 23/50\n",
            "453/453 [==============================] - 2s 5ms/step - loss: 0.5477 - accuracy: 0.8663 - val_loss: 0.5559 - val_accuracy: 0.8660\n",
            "Epoch 24/50\n",
            "453/453 [==============================] - 2s 5ms/step - loss: 0.5483 - accuracy: 0.8663 - val_loss: 0.5499 - val_accuracy: 0.8658\n",
            "Epoch 25/50\n",
            "453/453 [==============================] - 2s 5ms/step - loss: 0.5482 - accuracy: 0.8662 - val_loss: 0.5496 - val_accuracy: 0.8659\n",
            "Epoch 26/50\n",
            "453/453 [==============================] - 2s 5ms/step - loss: 0.5481 - accuracy: 0.8663 - val_loss: 0.5541 - val_accuracy: 0.8663\n",
            "Epoch 27/50\n",
            "453/453 [==============================] - 2s 5ms/step - loss: 0.5482 - accuracy: 0.8663 - val_loss: 0.5679 - val_accuracy: 0.8645\n",
            "Epoch 28/50\n",
            "453/453 [==============================] - 2s 5ms/step - loss: 0.5480 - accuracy: 0.8663 - val_loss: 0.5522 - val_accuracy: 0.8662\n",
            "Epoch 29/50\n",
            "453/453 [==============================] - 2s 5ms/step - loss: 0.5479 - accuracy: 0.8665 - val_loss: 0.5507 - val_accuracy: 0.8659\n",
            "Epoch 30/50\n",
            "453/453 [==============================] - 2s 5ms/step - loss: 0.5479 - accuracy: 0.8663 - val_loss: 0.5657 - val_accuracy: 0.8649\n",
            "Epoch 31/50\n",
            "453/453 [==============================] - 2s 5ms/step - loss: 0.5478 - accuracy: 0.8665 - val_loss: 0.5478 - val_accuracy: 0.8661\n",
            "Epoch 32/50\n",
            "453/453 [==============================] - 2s 5ms/step - loss: 0.5479 - accuracy: 0.8665 - val_loss: 0.5557 - val_accuracy: 0.8664\n",
            "Epoch 33/50\n",
            "453/453 [==============================] - 2s 5ms/step - loss: 0.5472 - accuracy: 0.8665 - val_loss: 0.5594 - val_accuracy: 0.8658\n",
            "Epoch 34/50\n",
            "453/453 [==============================] - 2s 5ms/step - loss: 0.5476 - accuracy: 0.8666 - val_loss: 0.5480 - val_accuracy: 0.8664\n",
            "Epoch 35/50\n",
            "453/453 [==============================] - 2s 5ms/step - loss: 0.5468 - accuracy: 0.8665 - val_loss: 0.5483 - val_accuracy: 0.8662\n",
            "Epoch 36/50\n",
            "453/453 [==============================] - 2s 5ms/step - loss: 0.5471 - accuracy: 0.8665 - val_loss: 0.5572 - val_accuracy: 0.8660\n",
            "Epoch 37/50\n",
            "453/453 [==============================] - 2s 5ms/step - loss: 0.5471 - accuracy: 0.8666 - val_loss: 0.5503 - val_accuracy: 0.8664\n",
            "Epoch 38/50\n",
            "453/453 [==============================] - 2s 5ms/step - loss: 0.5469 - accuracy: 0.8667 - val_loss: 0.5495 - val_accuracy: 0.8664\n",
            "Epoch 39/50\n",
            "453/453 [==============================] - 2s 5ms/step - loss: 0.5467 - accuracy: 0.8665 - val_loss: 0.5515 - val_accuracy: 0.8665\n",
            "Epoch 40/50\n",
            "453/453 [==============================] - 2s 5ms/step - loss: 0.5464 - accuracy: 0.8665 - val_loss: 0.5508 - val_accuracy: 0.8665\n",
            "Epoch 41/50\n",
            "453/453 [==============================] - 2s 5ms/step - loss: 0.5467 - accuracy: 0.8667 - val_loss: 0.5530 - val_accuracy: 0.8664\n",
            "Epoch 42/50\n",
            "453/453 [==============================] - 2s 5ms/step - loss: 0.5468 - accuracy: 0.8667 - val_loss: 0.5532 - val_accuracy: 0.8666\n",
            "Epoch 43/50\n",
            "453/453 [==============================] - 2s 5ms/step - loss: 0.5463 - accuracy: 0.8667 - val_loss: 0.5493 - val_accuracy: 0.8665\n",
            "Epoch 44/50\n",
            "453/453 [==============================] - 2s 5ms/step - loss: 0.5464 - accuracy: 0.8668 - val_loss: 0.5511 - val_accuracy: 0.8665\n",
            "Epoch 45/50\n",
            "453/453 [==============================] - 2s 5ms/step - loss: 0.5462 - accuracy: 0.8667 - val_loss: 0.5482 - val_accuracy: 0.8665\n",
            "Epoch 46/50\n",
            "453/453 [==============================] - 2s 5ms/step - loss: 0.5461 - accuracy: 0.8668 - val_loss: 0.5572 - val_accuracy: 0.8664\n",
            "Epoch 47/50\n",
            "453/453 [==============================] - 2s 5ms/step - loss: 0.5465 - accuracy: 0.8668 - val_loss: 0.5496 - val_accuracy: 0.8662\n",
            "Epoch 48/50\n",
            "453/453 [==============================] - 2s 5ms/step - loss: 0.5461 - accuracy: 0.8667 - val_loss: 0.5505 - val_accuracy: 0.8664\n",
            "Epoch 49/50\n",
            "453/453 [==============================] - 2s 5ms/step - loss: 0.5460 - accuracy: 0.8668 - val_loss: 0.5480 - val_accuracy: 0.8665\n",
            "Epoch 50/50\n",
            "453/453 [==============================] - 2s 5ms/step - loss: 0.5463 - accuracy: 0.8668 - val_loss: 0.5550 - val_accuracy: 0.8662\n"
          ],
          "name": "stdout"
        }
      ]
    },
    {
      "cell_type": "code",
      "metadata": {
        "id": "NluIJidc0Jeo",
        "colab_type": "code",
        "colab": {
          "base_uri": "https://localhost:8080/",
          "height": 84
        },
        "outputId": "97a4ec68-b940-48d7-a117-f8ceac24253d"
      },
      "source": [
        "nn.evaluate(x_train,y_train)[1]\n",
        "nn.evaluate(x_val,y_val)[1]\n",
        "nn.evaluate(x_test,y_test)[1]"
      ],
      "execution_count": 17,
      "outputs": [
        {
          "output_type": "stream",
          "text": [
            "1810/1810 [==============================] - 2s 1ms/step - loss: 0.5522 - accuracy: 0.8667\n",
            "604/604 [==============================] - 1s 1ms/step - loss: 0.5550 - accuracy: 0.8662\n",
            "604/604 [==============================] - 1s 1ms/step - loss: 0.5578 - accuracy: 0.8640\n"
          ],
          "name": "stdout"
        },
        {
          "output_type": "execute_result",
          "data": {
            "text/plain": [
              "0.8639896512031555"
            ]
          },
          "metadata": {
            "tags": []
          },
          "execution_count": 17
        }
      ]
    },
    {
      "cell_type": "code",
      "metadata": {
        "id": "ltax9q_g4uGQ",
        "colab_type": "code",
        "colab": {
          "base_uri": "https://localhost:8080/",
          "height": 472
        },
        "outputId": "faef020f-9a56-4775-90c9-f978fdafe19e"
      },
      "source": [
        "loss_train = fit.history['loss']\n",
        "loss_val = fit.history['val_loss']\n",
        "epochs = range(1,51)\n",
        "plt.plot(epochs, loss_train, 'g', label='Training loss')\n",
        "plt.plot(epochs, loss_val, 'b', label='validation loss')\n",
        "plt.title('Training and Validation loss')\n",
        "plt.xlabel('Epochs')\n",
        "plt.ylabel('Loss')\n",
        "plt.legend()\n",
        "plt.show()"
      ],
      "execution_count": 18,
      "outputs": [
        {
          "output_type": "display_data",
          "data": {
            "image/png": "[encoded data removed]",
            "text/plain": [
              "<Figure size 1440x504 with 1 Axes>"
            ]
          },
          "metadata": {
            "tags": []
          }
        }
      ]
    },
    {
      "cell_type": "code",
      "metadata": {
        "id": "ZCA7uUKF5Du-",
        "colab_type": "code",
        "colab": {
          "base_uri": "https://localhost:8080/",
          "height": 472
        },
        "outputId": "5eca2c06-abfa-4038-97e5-4c6393ef59f3"
      },
      "source": [
        "acc_train = fit.history['accuracy']\n",
        "acc_val = fit.history['val_accuracy']\n",
        "\n",
        "epochs = range(1,51)\n",
        "\n",
        "plt.plot(epochs, acc_train, 'k', label='Training accuracy')\n",
        "plt.plot(epochs, acc_val, 'r', label='validation accuracy')\n",
        "\n",
        "plt.title('Training and Validation accuracy')\n",
        "plt.xlabel('Epochs')\n",
        "plt.ylabel('Accuracy')\n",
        "plt.legend()\n",
        "plt.show()"
      ],
      "execution_count": 19,
      "outputs": [
        {
          "output_type": "display_data",
          "data": {
            "image/png": "[encoded data removed]",
            "text/plain": [
              "<Figure size 1440x504 with 1 Axes>"
            ]
          },
          "metadata": {
            "tags": []
          }
        }
      ]
    },
    {
      "cell_type": "code",
      "metadata": {
        "id": "9Sr7ircH7QKT",
        "colab_type": "code",
        "colab": {
          "base_uri": "https://localhost:8080/",
          "height": 33
        },
        "outputId": "0b6938f7-e894-449f-e221-f137f71834de"
      },
      "source": [
        "eva_loss, eva_accu = nn.evaluate(x= x_test, y= y_test)"
      ],
      "execution_count": 20,
      "outputs": [
        {
          "output_type": "stream",
          "text": [
            "604/604 [==============================] - 1s 1ms/step - loss: 0.5578 - accuracy: 0.8640\n"
          ],
          "name": "stdout"
        }
      ]
    },
    {
      "cell_type": "code",
      "metadata": {
        "id": "8PasxI4Y8PYt",
        "colab_type": "code",
        "colab": {
          "base_uri": "https://localhost:8080/",
          "height": 50
        },
        "outputId": "6c2dd5c3-e5e8-4a7f-ce26-3f2020a89491"
      },
      "source": [
        "print('Test_accuracy: ',eva_accu)\n",
        "print('Test_loss: ',eva_loss)"
      ],
      "execution_count": 21,
      "outputs": [
        {
          "output_type": "stream",
          "text": [
            "Test_accuracy:  0.8639896512031555\n",
            "Test_loss:  0.5577942728996277\n"
          ],
          "name": "stdout"
        }
      ]
    },
    {
      "cell_type": "code",
      "metadata": {
        "id": "qw0OzY7K8V8v",
        "colab_type": "code",
        "colab": {}
      },
      "source": [
        ""
      ],
      "execution_count": 21,
      "outputs": []
    }
  ]
}